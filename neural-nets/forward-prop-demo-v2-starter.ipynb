{
 "cells": [
  {
   "cell_type": "markdown",
   "id": "95f35d3f-a738-4aff-9c62-38d3b06af4ff",
   "metadata": {},
   "source": [
    "# Neural Network Lab\n",
    "\n",
    "## Forward propagation, binary classification"
   ]
  },
  {
   "cell_type": "code",
   "execution_count": null,
   "id": "23a9722c-8811-4cf7-a2ea-c1d43e4689b2",
   "metadata": {
    "tags": []
   },
   "outputs": [],
   "source": [
    "import numpy as np\n",
    "import scipy \n",
    "import matplotlib.pyplot as plt\n",
    "from scipy.special import softmax\n",
    "\n",
    "sigmoid = scipy.special.expit\n",
    "\n",
    "np.random.seed(2)\n",
    "    \n",
    "# Generate random points in a 2D space\n",
    "x1 = np.random.uniform(-1.5, 1.5, 25)\n",
    "x2 = np.random.uniform(-1.5, 1.5, 25)\n",
    "\n",
    "# Define the label based on the circular decision boundary\n",
    "y = (x1**2 + x2**2 >= 1).astype(int)\n",
    "\n",
    "# Create numpy array\n",
    "dataset = np.column_stack((x1, x2, y))"
   ]
  },
  {
   "cell_type": "code",
   "execution_count": null,
   "id": "a8ed0ec7-d97c-4005-9f1d-9e14819a4ed4",
   "metadata": {
    "tags": []
   },
   "outputs": [],
   "source": [
    "# Define a function to make a nice scatterplot as well as take a model function\n",
    "# that will shade the 0/1 classes.\n",
    "def make_scatter_plot_with_shading(model=None):\n",
    "\n",
    "    plt.figure(figsize=(6,6))\n",
    "    for label, marker, color in zip([0, 1], ['o', 'x'], ['blue', 'red']):\n",
    "        mask = dataset[:, 2] == label\n",
    "        plt.scatter(dataset[mask, 0], dataset[mask, 1], marker=marker, color=color, label=f'Class {label}', s=100)\n",
    "\n",
    "    # Define a function that takes x1 and x2\n",
    "    if model != None:\n",
    "        # Define ranges for x1 and x2\n",
    "        x1space = np.linspace(-1.5, 1.5, 100)\n",
    "        x2space = np.linspace(-1.5, 1.5, 100)\n",
    "        # Create a meshgrid for x1 and x2\n",
    "        X1, X2 = np.meshgrid(x1space, x2space)\n",
    "        # Evaluate function over the meshgrid\n",
    "        vectorized_model = np.vectorize(lambda x1, x2: model([x1, x2]))\n",
    "        Z = vectorized_model(X1, X2)\n",
    "\n",
    "        # Plot the contour-filled plot\n",
    "        #plt.figure(figsize=(8, 6))\n",
    "        contour = plt.contourf(X1, X2, Z, levels=[0, .5, 1], colors=['blue', 'red'], alpha=0.3)\n",
    "\n",
    "        # Add a contour line at Z = 0\n",
    "        #plt.contour(X1, X2, Z, levels=[0], colors='black', linewidths=1)\n",
    "\n",
    "    plt.xlabel(\"x1\")\n",
    "    plt.ylabel(\"x2\")\n",
    "    plt.show()\n",
    "    \n",
    "make_scatter_plot_with_shading()"
   ]
  },
  {
   "cell_type": "code",
   "execution_count": null,
   "id": "16ea05b8-8088-409c-bbdc-8366b9192a8a",
   "metadata": {
    "tags": []
   },
   "outputs": [],
   "source": [
    "# Make X and y pieces from dataset:\n",
    "\n"
   ]
  },
  {
   "cell_type": "code",
   "execution_count": null,
   "id": "ef5541a3-69a6-4920-a43b-71ee5811e69c",
   "metadata": {},
   "outputs": [],
   "source": [
    "# Single layer network for classification: 2 inputs to 1 output\n",
    "# Define your matrices and vectors, and define the run_model function.\n",
    "\n",
    "def relu(z):\n",
    "    return np.maximum(0, z)\n",
    "\n",
    "# define W and b:\n",
    "\n",
    "def run_model(x, W):\n",
    "    pass\n",
    "\n"
   ]
  },
  {
   "cell_type": "code",
   "execution_count": null,
   "id": "573d7b51-707e-41ae-9669-59118cf9b5a0",
   "metadata": {
    "tags": []
   },
   "outputs": [],
   "source": [
    "# Write a function to make a prediction for an input x:\n",
    "\n",
    "def make_prediction(x, W):\n",
    "    pass"
   ]
  },
  {
   "cell_type": "code",
   "execution_count": null,
   "id": "8e524cc6-f496-4e8c-aa97-30072533897d",
   "metadata": {
    "tags": []
   },
   "outputs": [],
   "source": [
    "# Write code to calculate the accuracy of our model on the training data:\n"
   ]
  },
  {
   "cell_type": "code",
   "execution_count": null,
   "id": "6348a01a-b428-4322-92cc-8991e466ee36",
   "metadata": {
    "tags": []
   },
   "outputs": [],
   "source": [
    "# Make a cool plot\n",
    "\n",
    "make_scatter_plot_with_shading(model=lambda x: run_model(x, W))"
   ]
  },
  {
   "cell_type": "code",
   "execution_count": null,
   "id": "83e61222-b4c7-4f65-b31b-86b1e1f60b50",
   "metadata": {
    "tags": []
   },
   "outputs": [],
   "source": [
    "# Vectorization:\n",
    "\n"
   ]
  },
  {
   "cell_type": "code",
   "execution_count": null,
   "id": "185d3e7a-f73f-4dba-b493-46add92568e0",
   "metadata": {
    "tags": []
   },
   "outputs": [],
   "source": [
    "# 2-layer network for classification: 2 inputs to 3 hidden units\n",
    "# Define your matrices and vectors, and define the run_model function.\n",
    "\n",
    "\n",
    "def run_model(x, W1, b1, W2, b2):\n",
    "    pass\n",
    "\n"
   ]
  },
  {
   "cell_type": "code",
   "execution_count": null,
   "id": "ba438bd3-b123-44b4-9b02-ae996b7b8b5d",
   "metadata": {
    "tags": []
   },
   "outputs": [],
   "source": [
    "# Write a function to make a prediction for an input x:\n",
    "\n",
    "def make_prediction(x, W1, b1, W2, b2):\n",
    "    pass"
   ]
  },
  {
   "cell_type": "code",
   "execution_count": null,
   "id": "94f24c3d-4d86-4b35-b050-0b6c884927ee",
   "metadata": {
    "tags": []
   },
   "outputs": [],
   "source": [
    "# Write code to calculate the accuracy of our model on the training data:\n",
    "# possible to get 100% with this network!\n"
   ]
  },
  {
   "cell_type": "code",
   "execution_count": null,
   "id": "81a569f7-9648-477f-a6ee-7f0f4169af35",
   "metadata": {
    "tags": []
   },
   "outputs": [],
   "source": [
    "# Make a cool plot\n",
    "\n",
    "make_scatter_plot_with_shading(model=lambda x: run_model(x, W1, b1, W2, b2))"
   ]
  },
  {
   "cell_type": "code",
   "execution_count": null,
   "id": "ac2c3ef5-4af2-4bfd-8b02-93e3289cd79d",
   "metadata": {},
   "outputs": [],
   "source": [
    "# Vectorization"
   ]
  }
 ],
 "metadata": {
  "kernelspec": {
   "display_name": "Python 3 (ipykernel)",
   "language": "python",
   "name": "python3"
  },
  "language_info": {
   "codemirror_mode": {
    "name": "ipython",
    "version": 3
   },
   "file_extension": ".py",
   "mimetype": "text/x-python",
   "name": "python",
   "nbconvert_exporter": "python",
   "pygments_lexer": "ipython3",
   "version": "3.12.5"
  }
 },
 "nbformat": 4,
 "nbformat_minor": 5
}
