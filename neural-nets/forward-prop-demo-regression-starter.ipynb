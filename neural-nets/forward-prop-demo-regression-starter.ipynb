{
 "cells": [
  {
   "cell_type": "markdown",
   "id": "4989d6e6-4850-4945-af25-215b085894eb",
   "metadata": {},
   "source": [
    "# Neural network lab\n",
    "\n",
    "## Forward propagation, regression"
   ]
  },
  {
   "cell_type": "code",
   "execution_count": null,
   "id": "23a9722c-8811-4cf7-a2ea-c1d43e4689b2",
   "metadata": {
    "tags": []
   },
   "outputs": [],
   "source": [
    "import numpy as np\n",
    "import scipy \n",
    "import matplotlib.pyplot as plt\n",
    "from scipy.special import softmax\n",
    "sigmoid = scipy.special.expit\n",
    "\n",
    "# Generate some data\n",
    "X = np.arange(-3, 3, .1).reshape(-1, 1)\n",
    "y = X ** 3 - 3 * X + 2\n",
    "\n",
    "# Create numpy array\n",
    "dataset = np.column_stack((X, y))"
   ]
  },
  {
   "cell_type": "code",
   "execution_count": null,
   "id": "a17e2777-d43b-4fec-ac17-00ea9efd30ad",
   "metadata": {},
   "outputs": [],
   "source": [
    "# Plot original data\n",
    "\n",
    "plt.plot(X, y, -3, 3)\n",
    "plt.show()"
   ]
  },
  {
   "cell_type": "code",
   "execution_count": null,
   "id": "a8ed0ec7-d97c-4005-9f1d-9e14819a4ed4",
   "metadata": {
    "tags": []
   },
   "outputs": [],
   "source": [
    "# Define a function to make a nice scatterplot as well as take a model function\n",
    "# that will shade the 0/1 classes.\n",
    "def make_plot(model=None):\n",
    "\n",
    "    plt.plot(X, y, -3, 3)\n",
    "\n",
    "    # Define a function that takes x1 and x2\n",
    "    if model != None:\n",
    "        # Define ranges for x1 and x2\n",
    "        #x1space = np.linspace(-1.5, 1.5, 100)\n",
    "        # Create a meshgrid for x1 and x2\n",
    "        #X1, X2 = np.meshgrid(x1space, x2space)\n",
    "        # Evaluate function over the meshgrid\n",
    "        #vectorized_func = np.vectorize(lambda x1, x2: model([x1, x2]))\n",
    "        #yhat = vectorized_func(x)\n",
    "        yhat = model(X)\n",
    "\n",
    "        plt.plot(X, yhat, -3, 3)\n",
    "\n",
    "    plt.show()\n",
    "    \n",
    "make_plot()"
   ]
  },
  {
   "cell_type": "code",
   "execution_count": null,
   "id": "16ea05b8-8088-409c-bbdc-8366b9192a8a",
   "metadata": {
    "tags": []
   },
   "outputs": [],
   "source": []
  },
  {
   "cell_type": "code",
   "execution_count": null,
   "id": "ef5541a3-69a6-4920-a43b-71ee5811e69c",
   "metadata": {},
   "outputs": [],
   "source": [
    "# Single layer network for classification: 1 inputs to 1 output\n",
    "\n",
    "def relu(z):\n",
    "    return np.maximum(0, z)\n",
    "\n",
    "def run_model(x, W):\n",
    "    pass\n"
   ]
  },
  {
   "cell_type": "code",
   "execution_count": null,
   "id": "6348a01a-b428-4322-92cc-8991e466ee36",
   "metadata": {
    "tags": []
   },
   "outputs": [],
   "source": [
    "# Make a cool plot\n",
    "\n",
    "make_plot(model=lambda x: run_model(x, W))"
   ]
  },
  {
   "cell_type": "code",
   "execution_count": null,
   "id": "83e61222-b4c7-4f65-b31b-86b1e1f60b50",
   "metadata": {
    "tags": []
   },
   "outputs": [],
   "source": [
    "# Vectorization:\n",
    "\n"
   ]
  },
  {
   "cell_type": "code",
   "execution_count": null,
   "id": "185d3e7a-f73f-4dba-b493-46add92568e0",
   "metadata": {
    "tags": []
   },
   "outputs": [],
   "source": [
    "# 2-layer network for classification: 1 input to 3 hidden units to 1 output\n",
    "# Define your matrices and vectors, and define the run_model function.\n",
    "\n",
    "def run_model(x, W1, b1, W2, b2):\n",
    "    pass\n",
    "\n"
   ]
  },
  {
   "cell_type": "code",
   "execution_count": null,
   "id": "81a569f7-9648-477f-a6ee-7f0f4169af35",
   "metadata": {
    "tags": []
   },
   "outputs": [],
   "source": [
    "# Make a cool plot\n",
    "\n",
    "make_plot(model=lambda x: run_model(x, W1, b1, W2, b2))"
   ]
  },
  {
   "cell_type": "code",
   "execution_count": null,
   "id": "ac2c3ef5-4af2-4bfd-8b02-93e3289cd79d",
   "metadata": {},
   "outputs": [],
   "source": [
    "# Vectorization"
   ]
  }
 ],
 "metadata": {
  "kernelspec": {
   "display_name": "Python 3 (ipykernel)",
   "language": "python",
   "name": "python3"
  },
  "language_info": {
   "codemirror_mode": {
    "name": "ipython",
    "version": 3
   },
   "file_extension": ".py",
   "mimetype": "text/x-python",
   "name": "python",
   "nbconvert_exporter": "python",
   "pygments_lexer": "ipython3",
   "version": "3.12.5"
  }
 },
 "nbformat": 4,
 "nbformat_minor": 5
}
